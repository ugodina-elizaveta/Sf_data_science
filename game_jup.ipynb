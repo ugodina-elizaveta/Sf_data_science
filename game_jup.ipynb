{
 "cells": [
  {
   "cell_type": "markdown",
   "id": "e9c600a9-a391-43c0-8cae-e57b86ad04ef",
   "metadata": {},
   "source": [
    "# Игра угадай число"
   ]
  },
  {
   "cell_type": "code",
   "execution_count": 2,
   "id": "d29e7738-c15b-454a-9ec5-d1e33fff9870",
   "metadata": {
    "ExecuteTime": {
     "end_time": "2023-10-01T17:07:35.615632600Z",
     "start_time": "2023-10-01T17:07:35.370636100Z"
    }
   },
   "outputs": [],
   "source": [
    "from game import score_game\n",
    "from game import random_predict"
   ]
  },
  {
   "cell_type": "code",
   "execution_count": 3,
   "id": "5bb1538c-0ee4-4e30-94ee-054654cc0149",
   "metadata": {
    "ExecuteTime": {
     "end_time": "2023-10-01T17:08:00.128646500Z",
     "start_time": "2023-10-01T17:07:59.493607700Z"
    }
   },
   "outputs": [
    {
     "name": "stdout",
     "output_type": "stream",
     "text": [
      "Ваш алгоритм угадывает число в среднем за: 101 попыток\n"
     ]
    },
    {
     "data": {
      "text/plain": "101"
     },
     "execution_count": 3,
     "metadata": {},
     "output_type": "execute_result"
    }
   ],
   "source": [
    "score_game(random_predict)"
   ]
  },
  {
   "cell_type": "code",
   "execution_count": null,
   "id": "9c3ad12f-fda6-4bfc-bc63-02f2e0e3d85d",
   "metadata": {},
   "outputs": [],
   "source": []
  }
 ],
 "metadata": {
  "kernelspec": {
   "display_name": "Python 3 (ipykernel)",
   "language": "python",
   "name": "python3"
  },
  "language_info": {
   "codemirror_mode": {
    "name": "ipython",
    "version": 3
   },
   "file_extension": ".py",
   "mimetype": "text/x-python",
   "name": "python",
   "nbconvert_exporter": "python",
   "pygments_lexer": "ipython3",
   "version": "3.10.6"
  }
 },
 "nbformat": 4,
 "nbformat_minor": 5
}
